{
 "cells": [
  {
   "cell_type": "markdown",
   "metadata": {
    "_cell_guid": "4038df94-4445-4f54-09c8-a031c4597dfe"
   },
   "source": [
    "# Clean the data"
   ]
  },
  {
   "cell_type": "markdown",
   "metadata": {
    "_cell_guid": "2da284b3-c6d9-429a-3e91-c670e42be0d8"
   },
   "source": [
    "**First, import packages for data cleaning and read the data**"
   ]
  },
  {
   "cell_type": "code",
   "execution_count": null,
   "metadata": {
    "_cell_guid": "ac64ce6a-8910-dca6-c1bf-c216bcec4f45",
    "collapsed": false
   },
   "outputs": [],
   "source": [
    "from scipy.stats.mstats import mode\n",
    "import pandas as pd\n",
    "import numpy as np\n",
    "import time\n",
    "from sklearn.preprocessing import LabelEncoder\n",
    "\n",
    "\"\"\"\n",
    "Read Data\n",
    "\"\"\"\n",
    "train = pd.read_csv('data/train.csv')\n",
    "test = pd.read_csv('data/test.csv')\n",
    "target = train['SalePrice']\n",
    "train = train.drop(['SalePrice'],axis=1)\n",
    "trainlen = train.shape[0]"
   ]
  },
  {
   "cell_type": "markdown",
   "metadata": {
    "_cell_guid": "4dc20740-4e1b-c832-a4d3-3d9e03f0a117"
   },
   "source": [
    "**Combine the train and test set for cleaning**"
   ]
  },
  {
   "cell_type": "code",
   "execution_count": null,
   "metadata": {
    "collapsed": false
   },
   "outputs": [],
   "source": [
    "df1 = train.head()\n",
    "df2 = test.head()\n",
    "pd.concat([df1, df2], axis=0, ignore_index=True)"
   ]
  },
  {
   "cell_type": "code",
   "execution_count": null,
   "metadata": {
    "collapsed": false,
    "scrolled": false
   },
   "outputs": [],
   "source": [
    "alldata = pd.concat([train, test], axis=0, join='outer', ignore_index=True)\n",
    "alldata = alldata.drop(['Id','Utilities'], axis=1)\n",
    "alldata.dtypes"
   ]
  },
  {
   "cell_type": "markdown",
   "metadata": {},
   "source": [
    "** Convert all ints to floats for XGBoost **"
   ]
  },
  {
   "cell_type": "code",
   "execution_count": null,
   "metadata": {
    "collapsed": false
   },
   "outputs": [],
   "source": [
    "alldata.ix[:,(alldata.dtypes=='int64') & (alldata.columns != 'MSSubClass')]=alldata.ix[:,(alldata.dtypes=='int64') & (alldata.columns!='MSSubClass')].astype('float64')"
   ]
  },
  {
   "cell_type": "code",
   "execution_count": null,
   "metadata": {
    "collapsed": false
   },
   "outputs": [],
   "source": [
    "alldata.head(20)"
   ]
  },
  {
   "cell_type": "markdown",
   "metadata": {},
   "source": [
    "** Save lightly prepared data (no encoding) **"
   ]
  },
  {
   "cell_type": "code",
   "execution_count": null,
   "metadata": {
    "collapsed": false
   },
   "outputs": [],
   "source": [
    "\n",
    "train = alldata.ix[0:trainlen-1, :]\n",
    "test = alldata.ix[trainlen:alldata.shape[0],:]\n",
    "test.to_csv('data/test_prepared_light.csv', index=False)\n",
    "train.to_csv('data/train_prepared_light.csv', index=False)"
   ]
  },
  {
   "cell_type": "markdown",
   "metadata": {
    "_cell_guid": "2b037c67-6a94-1484-1441-ab7e9769ea58"
   },
   "source": [
    "**Dealing with the NA values in the variables, some of them equal to 0 and some equal to median, based on the txt descriptions**"
   ]
  },
  {
   "cell_type": "code",
   "execution_count": null,
   "metadata": {
    "collapsed": false
   },
   "outputs": [],
   "source": [
    "fMedlist=['LotFrontage']\n",
    "fArealist=['MasVnrArea','TotalBsmtSF','BsmtFinSF1','BsmtFinSF2','BsmtUnfSF','BsmtFullBath', 'BsmtHalfBath','MasVnrArea','Fireplaces','GarageArea','GarageYrBlt','GarageCars']\n",
    "\n",
    "for i in fArealist:\n",
    "    alldata.ix[pd.isnull(alldata.ix[:,i]),i] = 0\n",
    "        \n",
    "for i in fMedlist:\n",
    "    alldata.ix[pd.isnull(alldata.ix[:,i]),i] = np.nanmedian(alldata.ix[:,i])    "
   ]
  },
  {
   "cell_type": "markdown",
   "metadata": {},
   "source": [
    "** Transforming Data **\n",
    "Use integers to encode categorical data."
   ]
  },
  {
   "cell_type": "code",
   "execution_count": null,
   "metadata": {
    "collapsed": false
   },
   "outputs": [],
   "source": [
    "alldata.head(20)"
   ]
  },
  {
   "cell_type": "markdown",
   "metadata": {},
   "source": [
    "** Encode categorical data **"
   ]
  },
  {
   "cell_type": "code",
   "execution_count": null,
   "metadata": {
    "_cell_guid": "f6380303-4606-758b-286d-94fea6743930",
    "collapsed": false
   },
   "outputs": [],
   "source": [
    "le = LabelEncoder()\n",
    "nacount_category = np.array(alldata.columns[((alldata.dtypes=='int64') | (alldata.dtypes=='object')) & (pd.isnull(alldata).sum()>0)])\n",
    "category = np.array(alldata.columns[((alldata.dtypes=='int64') | (alldata.dtypes=='object'))])\n",
    "Bsmtset = set(['BsmtQual','BsmtCond','BsmtExposure','BsmtFinType1','BsmtFinType2'])\n",
    "MasVnrset = set(['MasVnrType'])\n",
    "Garageset = set(['GarageType','GarageYrBlt','GarageFinish','GarageQual','GarageCond'])\n",
    "Fireplaceset = set(['FireplaceQu'])\n",
    "Poolset = set(['PoolQC'])\n",
    "NAset = set(['Fence','MiscFeature','Alley'])\n",
    "\n",
    "# Put 0 and null values in the same category\n",
    "for i in nacount_category:\n",
    "    if i in Bsmtset:\n",
    "        alldata.ix[pd.isnull(alldata.ix[:,i]) & (alldata['TotalBsmtSF']==0), i]='Empty'\n",
    "        alldata.ix[pd.isnull(alldata.ix[:,i]), i] = alldata.ix[:,i].value_counts().index[0]\n",
    "    elif i in MasVnrset:\n",
    "        alldata.ix[pd.isnull(alldata.ix[:,i]) & (alldata['MasVnrArea']==0),i]='Empty'\n",
    "        alldata.ix[pd.isnull(alldata.ix[:,i]),i]=alldata.ix[:,i].value_counts().index[0]\n",
    "    elif i in Garageset:\n",
    "        alldata.ix[pd.isnull(alldata.ix[:,i]) & (alldata['GarageArea']==0),i]='Empty'\n",
    "        alldata.ix[pd.isnull(alldata.ix[:,i]),i]=alldata.ix[:,i].value_counts().index[0]\n",
    "    elif i in Fireplaceset:\n",
    "        alldata.ix[pd.isnull(alldata.ix[:,i]) & (alldata['Fireplaces']==0),i]='Empty'\n",
    "        alldata.ix[pd.isnull(alldata.ix[:,i]),i]=alldata.ix[:,i].value_counts().index[0]\n",
    "    elif i in Poolset:\n",
    "        alldata.ix[pd.isnull(alldata.ix[:,i]) & (alldata['PoolArea']==0),i]='Empty'\n",
    "        alldata.ix[pd.isnull(alldata.ix[:,i]),i]=alldata.ix[:,i].value_counts().index[0]\n",
    "    elif i in NAset:\n",
    "        alldata.ix[pd.isnull(alldata.ix[:,i]),i]='Empty'\n",
    "    else:\n",
    "        alldata.ix[pd.isnull(alldata.ix[:,i]),i]=alldata.ix[:,i].value_counts().index[0]\n",
    "\n",
    "for i in category:\n",
    "    alldata.ix[:,i]=le.fit_transform(alldata.ix[:,i])\n",
    "\n",
    "train = alldata.ix[0:trainlen-1, :]\n",
    "test = alldata.ix[trainlen:alldata.shape[0],:]"
   ]
  },
  {
   "cell_type": "code",
   "execution_count": null,
   "metadata": {
    "collapsed": false
   },
   "outputs": [],
   "source": [
    "alldata.head()"
   ]
  },
  {
   "cell_type": "markdown",
   "metadata": {},
   "source": [
    "** Export data **"
   ]
  },
  {
   "cell_type": "code",
   "execution_count": null,
   "metadata": {
    "collapsed": false
   },
   "outputs": [],
   "source": [
    "train.to_csv('data/train_prepared.csv')\n",
    "test.to_csv('data/test_prepared.csv')"
   ]
  },
  {
   "cell_type": "code",
   "execution_count": null,
   "metadata": {
    "collapsed": false
   },
   "outputs": [],
   "source": [
    "train.head()"
   ]
  },
  {
   "cell_type": "code",
   "execution_count": null,
   "metadata": {
    "collapsed": false
   },
   "outputs": [],
   "source": [
    "target.to_csv('data/train_target.csv', header='SalePrice', index=False)"
   ]
  },
  {
   "cell_type": "code",
   "execution_count": null,
   "metadata": {
    "collapsed": false
   },
   "outputs": [],
   "source": []
  }
 ],
 "metadata": {
  "_change_revision": 31,
  "_is_fork": false,
  "kernelspec": {
   "display_name": "Python 3",
   "language": "python",
   "name": "python3"
  },
  "language_info": {
   "codemirror_mode": {
    "name": "ipython",
    "version": 3
   },
   "file_extension": ".py",
   "mimetype": "text/x-python",
   "name": "python",
   "nbconvert_exporter": "python",
   "pygments_lexer": "ipython3",
   "version": "3.5.2"
  }
 },
 "nbformat": 4,
 "nbformat_minor": 0
}
