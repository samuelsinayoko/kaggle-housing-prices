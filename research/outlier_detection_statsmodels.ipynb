{
 "cells": [
  {
   "cell_type": "markdown",
   "metadata": {},
   "source": [
    "# Outlier detection \n",
    "\n",
    "Detect outliers using linear regression model and `statsmodels`. Based on [Stackoverflow question](http://stackoverflow.com/questions/10231206/can-scipy-stats-identify-and-mask-obvious-outliers)."
   ]
  },
  {
   "cell_type": "code",
   "execution_count": null,
   "metadata": {
    "collapsed": false
   },
   "outputs": [],
   "source": [
    "import numpy as np\n",
    "\n",
    "import statsmodels.api as sm # For some reason this import is necessary...\n",
    "import statsmodels.formula.api as smapi\n",
    "import statsmodels.graphics as smgraph\n",
    "\n",
    "import matplotlib.pyplot as plt\n",
    "%matplotlib inline"
   ]
  },
  {
   "cell_type": "markdown",
   "metadata": {},
   "source": [
    "## Test data\n",
    "\n",
    "Here were just making some fake data. First of all, make a list of x values from 0 to 29. Next, use the x values to generate some y data that is salted with some randomness. Finally, change the 7th value to a value that is clearly an outlier from the rest."
   ]
  },
  {
   "cell_type": "code",
   "execution_count": null,
   "metadata": {
    "collapsed": false
   },
   "outputs": [],
   "source": [
    "x = np.arange(30, dtype=float)\n",
    "# Make some y data with random noise\n",
    "y = 10 * x + 5.0*np.random.randn(30)\n",
    "# Add outlier #\n",
    "y[10] = 180.\n",
    "y[20] = 130"
   ]
  },
  {
   "cell_type": "code",
   "execution_count": null,
   "metadata": {
    "collapsed": false
   },
   "outputs": [],
   "source": [
    "plt.plot(x, y, 'o')"
   ]
  },
  {
   "cell_type": "markdown",
   "metadata": {},
   "source": [
    "## Regression\n",
    "\n",
    "Here we're just doing an ordinary least squares method to fit the data. The \"data ~ x\" is just saying that 'data' (which is the y values) are directly related to 'x' values. This formalism apparently implies that data = m\\*x + b."
   ]
  },
  {
   "cell_type": "code",
   "execution_count": null,
   "metadata": {
    "collapsed": false
   },
   "outputs": [],
   "source": [
    "# Make fit #\n",
    "regression = smapi.ols(\"data ~ x\", data=dict(data=y, x=x)).fit()\n",
    "regression.summary()"
   ]
  },
  {
   "cell_type": "markdown",
   "metadata": {},
   "source": [
    "## Test for Outliers\n",
    "\n",
    "Here we're using our regression results to do a test for outliers. In this case, I guess the default is a [Bonferroni outlier test](https://www.google.com/search?q=Bonferroni+outlier+test). We're only printing off test results where the third column is less than 0.05."
   ]
  },
  {
   "cell_type": "markdown",
   "metadata": {},
   "source": [
    "### Find outliers "
   ]
  },
  {
   "cell_type": "code",
   "execution_count": null,
   "metadata": {
    "collapsed": false
   },
   "outputs": [],
   "source": [
    "test = regression.outlier_test()\n",
    "test"
   ]
  },
  {
   "cell_type": "code",
   "execution_count": null,
   "metadata": {
    "collapsed": false
   },
   "outputs": [],
   "source": [
    "print('Bad data points (bonf(p) < 0.05):')\n",
    "test[test['bonf(p)'] < 0.05]"
   ]
  },
  {
   "cell_type": "code",
   "execution_count": null,
   "metadata": {
    "collapsed": false
   },
   "outputs": [],
   "source": [
    "outliers = test[test['bonf(p)'] < 0.05].index.values\n",
    "outliers"
   ]
  },
  {
   "cell_type": "markdown",
   "metadata": {},
   "source": [
    "## Figure"
   ]
  },
  {
   "cell_type": "code",
   "execution_count": null,
   "metadata": {
    "collapsed": false
   },
   "outputs": [],
   "source": [
    "figure = smgraph.regressionplots.plot_fit(regression, 1)\n",
    "line = smgraph.regressionplots.abline_plot(model_results=regression, ax=figure.axes[0])\n",
    "plt.plot(outliers, y[outliers], 'xm', label='outliers', ms=14)\n",
    "plt.legend(loc=0);"
   ]
  },
  {
   "cell_type": "markdown",
   "metadata": {},
   "source": [
    "## Create a function and test it"
   ]
  },
  {
   "cell_type": "code",
   "execution_count": null,
   "metadata": {
    "collapsed": false
   },
   "outputs": [],
   "source": [
    "import statsmodels.formula.api as smapi\n",
    "\n",
    "def get_outliers(features, target):\n",
    "    regression = smapi.ols(\"target ~ features\", data=locals()).fit()\n",
    "    test = regression.outlier_test()\n",
    "    outliers = test[test['bonf(p)'] < 0.05]\n",
    "    return list(outliers.index.values)\n",
    "\n"
   ]
  },
  {
   "cell_type": "code",
   "execution_count": null,
   "metadata": {
    "collapsed": false
   },
   "outputs": [],
   "source": [
    "def test_outliers():\n",
    "    x = np.arange(30, dtype=float)\n",
    "    # Make some y data with random noise\n",
    "    y = 10 * x + 5.0*np.random.randn(30)\n",
    "    # Add outlier\n",
    "    y[10] = 180.\n",
    "    y[20] = 130  \n",
    "    outliers = [10, 20]\n",
    "    prediction = get_outliers(features=x, target=y)\n",
    "    assert outliers == prediction\n",
    "    \n",
    "test_outliers()"
   ]
  },
  {
   "cell_type": "code",
   "execution_count": null,
   "metadata": {
    "collapsed": false
   },
   "outputs": [],
   "source": []
  }
 ],
 "metadata": {
  "kernelspec": {
   "display_name": "Python 3",
   "language": "python",
   "name": "python3"
  },
  "language_info": {
   "codemirror_mode": {
    "name": "ipython",
    "version": 3
   },
   "file_extension": ".py",
   "mimetype": "text/x-python",
   "name": "python",
   "nbconvert_exporter": "python",
   "pygments_lexer": "ipython3",
   "version": "3.5.2"
  }
 },
 "nbformat": 4,
 "nbformat_minor": 0
}
